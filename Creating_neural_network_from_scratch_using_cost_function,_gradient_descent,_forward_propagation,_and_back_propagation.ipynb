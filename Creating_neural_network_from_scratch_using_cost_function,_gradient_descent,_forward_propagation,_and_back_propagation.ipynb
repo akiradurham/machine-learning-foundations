{
  "cells": [
    {
      "cell_type": "markdown",
      "source": [
        "# Neural Network"
      ],
      "metadata": {
        "id": "uUkJN3YI6gsO"
      },
      "id": "uUkJN3YI6gsO"
    },
    {
      "cell_type": "markdown",
      "source": [
        "The goal of this project is to train a simple Neural Network."
      ],
      "metadata": {
        "id": "J1jKBtm_rXmg"
      },
      "id": "J1jKBtm_rXmg"
    },
    {
      "cell_type": "markdown",
      "source": [
        "\n",
        "\n",
        "![image-3.png](https://drive.google.com/uc?id=1SjPymYoI0iJPYAJqSKLttuUXjJi7fgB0)\n",
        "\n"
      ],
      "metadata": {
        "id": "8OFKp7eFrrA5"
      },
      "id": "8OFKp7eFrrA5"
    },
    {
      "cell_type": "markdown",
      "id": "98cf809a",
      "metadata": {
        "id": "98cf809a"
      },
      "source": [
        "# NN Training Steps\n",
        "\n",
        "1. Feed Forward\n",
        "\n",
        "2. Gradients\n",
        "\n",
        "3. Backpropagation\n",
        "\n",
        "\n",
        "---\n",
        "## 1. Feed forward\n",
        "---\n",
        "\n",
        "- Apply linear transformation and activation function to determine the neurons in the next layers of NN\n",
        "\n",
        "\n",
        "#### LAYER 1\n",
        "\n",
        "![LHS NN](https://github.com/gg5d/Math_Intro_NN/blob/master/screenshots_NN/small_NN_LHS.png?raw=true)\n",
        "\n",
        "\n",
        "1. Linear Transformation:\n",
        "\n",
        "$$\n",
        "\\vec{z}^{(1)} = \\mathbf{W}^{(1)} \\cdot \\vec{x} + \\vec{b}^{(1)}\n",
        "$$\n",
        "\n",
        "2. Activation Function (sigmoid):\n",
        "\n",
        "$$\n",
        "\\vec{a}^{(1)} = \\sigma(\\vec{z}^{(1)})\n",
        "$$\n",
        "\n",
        "#### LAYER 2\n",
        "\n",
        "\n",
        "![LHS NN](https://github.com/gg5d/Math_Intro_NN/blob/master/screenshots_NN/small_NN_RHS.png?raw=true)\n",
        "\n",
        "1. Linear Transformation:\n",
        "\n",
        "$$\n",
        "\\vec{z}^{(2)} = \\mathbf{W}^{(2)} \\cdot \\vec{a}^{(1)} + \\vec{b}^{(2)}\n",
        "$$\n",
        "\n",
        "2. Activation Function (sigmoid):\n",
        "\n",
        "$$\n",
        "\\vec{a}^{(2)} = \\sigma(\\vec{z}^{(2)})\n",
        "$$\n",
        "\n",
        "\n"
      ]
    },
    {
      "cell_type": "markdown",
      "source": [
        "### This is the full forward propagation\n",
        "\n",
        "\n",
        "> \\begin{array}{ccccccccc}\n",
        "\\text{Input = Output Layer 0} & & \\text{Layer 1} & & \\text{Output Layer 1} & & \\text{Layer 2} & & \\text{Output Layer 2}\\\\\n",
        "\\hline\n",
        "\\vec{x} = \\vec{a}^{(0)} & ⇒  & \\mathbf{W}^{(1)} \\cdot \\vec{x} + \\vec{b}^{(1)} = \\vec{z}^{(1)} & ⇒ &\n",
        " \\sigma(\\vec{z}^{(1)}) = \\vec{a}^{(1)} & ⇒ &  \\mathbf{W}^{(2)} \\cdot \\vec{a}^{(1)} + \\vec{b}^{(2)} = \\vec{z}^{(2)} & ⇒ &  \\sigma(\\vec{z}^{(2)}) = \\vec{a}^{(2)} = \\hat{y}\n",
        "\\end{array}\n",
        "\n",
        "![image-5.png](https://drive.google.com/uc?id=1ZmRXr2zCthT5kS3K4Ah532whDvKEX_mm)\n",
        "\n",
        "\n",
        "\n"
      ],
      "metadata": {
        "id": "0uJgcFre3rjr"
      },
      "id": "0uJgcFre3rjr"
    },
    {
      "cell_type": "markdown",
      "source": [
        "---\n",
        "## 2. Define the Loss/Cost function\n",
        "---\n",
        "\n",
        "\n",
        "![Cost function](https://github.com/gg5d/Math_Intro_NN/blob/master/screenshots_NN/small_NN_cost_function.png?raw=true)\n"
      ],
      "metadata": {
        "id": "ObqvNO7EMmp-"
      },
      "id": "ObqvNO7EMmp-"
    },
    {
      "cell_type": "markdown",
      "id": "4410a720",
      "metadata": {
        "id": "4410a720"
      },
      "source": [
        "---\n",
        "## 3. Gradients\n",
        "---\n",
        "\n",
        "Define all parameters with a **fancy** symbol:  $\\vec{\\theta} = \\{ W^{(1)}_{1,1},W^{(1)}_{2,1},...,b_1^{(1)},...\\}$\n",
        "\n",
        "Then the gradient of the Loss function is\n",
        "\n",
        "$$\n",
        "\\nabla_{\\vec{\\theta}} C (\\vec{\\theta}) =\n",
        "\\begin{bmatrix}\n",
        "\\frac{\\partial C}{\\partial W^{(1)}_{1,1}},\n",
        "\\frac{\\partial C}{\\partial W^{(1)}_{2,1}},\n",
        "\\cdots,\n",
        "\\frac{\\partial C}{\\partial b^{(2)}_1},  \n",
        "\\end{bmatrix}\n",
        "$$\n",
        "\n",
        "We will visualize this in a smaller case for clarity:\n",
        "(in this case W is used for the weight matrices instead of A)\n",
        "\n",
        "![image-4.png](https://drive.google.com/uc?id=1xyP1ocJGA-pS6z1BUpNISUmlTK09L4g8)\n",
        "\n",
        "---\n",
        "## 4. Update Values of Weights: Backpropagation\n",
        "---\n",
        "\n",
        "(h is the learning rate)\n",
        "\n",
        "![image-5.png](https://drive.google.com/uc?id=1E5OIQQMK-wXDHxSbMdYNacifuAD9weC_)\n",
        "\n",
        "---\n",
        "### 5. Repeat!\n",
        "---"
      ]
    },
    {
      "cell_type": "markdown",
      "source": [
        "# Neural Network\n",
        "\n",
        ">   #### Now we're going to complicate the simple Neural Network that we showed above.  Our input layer (in $\\color{blue} {\\text{blue}}$) is now in $\\mathbb{R}^3$ and we are going to add a hidden layer (in $\\color{lightgreen} {\\text{green}}$) also in $\\mathbb{R}^3$.  Our output (in $\\color{red} {\\text{red}}$) is still in $\\mathbb{R}$.\n",
        "\n",
        "![image1](https://drive.google.com/uc?id=16GbDnjSC5PjilwKReDqNJC_BirxuIoko)\n",
        "\n",
        "\n",
        "\n",
        "\n",
        "> #### Here you can see all the neurons, weight matrices, and biases labeled and the dimension of each given.\n",
        "\n",
        "![image2](https://drive.google.com/uc?id=1OyfiK0-U9xObswZdhxZXM0H8a0nHW_9r)\n",
        "\n",
        "\n"
      ],
      "metadata": {
        "id": "_DyVDeXCP93n"
      },
      "id": "_DyVDeXCP93n"
    },
    {
      "cell_type": "markdown",
      "source": [
        "# Dataset"
      ],
      "metadata": {
        "id": "dbuaTym89wN9"
      },
      "id": "dbuaTym89wN9"
    },
    {
      "cell_type": "code",
      "source": [
        "import pandas as pd\n",
        "X = pd.read_csv('penguins1.csv', usecols=range(1,4))\n",
        "Y = pd.read_csv('penguins2.csv', usecols=range(1,2))"
      ],
      "metadata": {
        "id": "4eDOsQdR-Ib5"
      },
      "id": "4eDOsQdR-Ib5",
      "execution_count": null,
      "outputs": []
    },
    {
      "cell_type": "code",
      "source": [
        "X"
      ],
      "metadata": {
        "colab": {
          "base_uri": "https://localhost:8080/",
          "height": 424
        },
        "id": "HnQWNKoG-Jcj",
        "outputId": "ccbe1da6-8690-4df2-8f1c-65516e04bf0c"
      },
      "id": "HnQWNKoG-Jcj",
      "execution_count": null,
      "outputs": [
        {
          "output_type": "execute_result",
          "data": {
            "text/plain": [
              "     bill_length_mm  bill_depth_mm  flipper_length_mm\n",
              "0              39.1           18.7                181\n",
              "1              39.5           17.4                186\n",
              "2              40.3           18.0                195\n",
              "3              36.7           19.3                193\n",
              "4              39.3           20.6                190\n",
              "..              ...            ...                ...\n",
              "260            47.2           13.7                214\n",
              "261            46.8           14.3                215\n",
              "262            50.4           15.7                222\n",
              "263            45.2           14.8                212\n",
              "264            49.9           16.1                213\n",
              "\n",
              "[265 rows x 3 columns]"
            ],
            "text/html": [
              "\n",
              "  <div id=\"df-b5a12177-bfe4-4144-80b9-7560874e1749\" class=\"colab-df-container\">\n",
              "    <div>\n",
              "<style scoped>\n",
              "    .dataframe tbody tr th:only-of-type {\n",
              "        vertical-align: middle;\n",
              "    }\n",
              "\n",
              "    .dataframe tbody tr th {\n",
              "        vertical-align: top;\n",
              "    }\n",
              "\n",
              "    .dataframe thead th {\n",
              "        text-align: right;\n",
              "    }\n",
              "</style>\n",
              "<table border=\"1\" class=\"dataframe\">\n",
              "  <thead>\n",
              "    <tr style=\"text-align: right;\">\n",
              "      <th></th>\n",
              "      <th>bill_length_mm</th>\n",
              "      <th>bill_depth_mm</th>\n",
              "      <th>flipper_length_mm</th>\n",
              "    </tr>\n",
              "  </thead>\n",
              "  <tbody>\n",
              "    <tr>\n",
              "      <th>0</th>\n",
              "      <td>39.1</td>\n",
              "      <td>18.7</td>\n",
              "      <td>181</td>\n",
              "    </tr>\n",
              "    <tr>\n",
              "      <th>1</th>\n",
              "      <td>39.5</td>\n",
              "      <td>17.4</td>\n",
              "      <td>186</td>\n",
              "    </tr>\n",
              "    <tr>\n",
              "      <th>2</th>\n",
              "      <td>40.3</td>\n",
              "      <td>18.0</td>\n",
              "      <td>195</td>\n",
              "    </tr>\n",
              "    <tr>\n",
              "      <th>3</th>\n",
              "      <td>36.7</td>\n",
              "      <td>19.3</td>\n",
              "      <td>193</td>\n",
              "    </tr>\n",
              "    <tr>\n",
              "      <th>4</th>\n",
              "      <td>39.3</td>\n",
              "      <td>20.6</td>\n",
              "      <td>190</td>\n",
              "    </tr>\n",
              "    <tr>\n",
              "      <th>...</th>\n",
              "      <td>...</td>\n",
              "      <td>...</td>\n",
              "      <td>...</td>\n",
              "    </tr>\n",
              "    <tr>\n",
              "      <th>260</th>\n",
              "      <td>47.2</td>\n",
              "      <td>13.7</td>\n",
              "      <td>214</td>\n",
              "    </tr>\n",
              "    <tr>\n",
              "      <th>261</th>\n",
              "      <td>46.8</td>\n",
              "      <td>14.3</td>\n",
              "      <td>215</td>\n",
              "    </tr>\n",
              "    <tr>\n",
              "      <th>262</th>\n",
              "      <td>50.4</td>\n",
              "      <td>15.7</td>\n",
              "      <td>222</td>\n",
              "    </tr>\n",
              "    <tr>\n",
              "      <th>263</th>\n",
              "      <td>45.2</td>\n",
              "      <td>14.8</td>\n",
              "      <td>212</td>\n",
              "    </tr>\n",
              "    <tr>\n",
              "      <th>264</th>\n",
              "      <td>49.9</td>\n",
              "      <td>16.1</td>\n",
              "      <td>213</td>\n",
              "    </tr>\n",
              "  </tbody>\n",
              "</table>\n",
              "<p>265 rows × 3 columns</p>\n",
              "</div>\n",
              "    <div class=\"colab-df-buttons\">\n",
              "\n",
              "  <div class=\"colab-df-container\">\n",
              "    <button class=\"colab-df-convert\" onclick=\"convertToInteractive('df-b5a12177-bfe4-4144-80b9-7560874e1749')\"\n",
              "            title=\"Convert this dataframe to an interactive table.\"\n",
              "            style=\"display:none;\">\n",
              "\n",
              "  <svg xmlns=\"http://www.w3.org/2000/svg\" height=\"24px\" viewBox=\"0 -960 960 960\">\n",
              "    <path d=\"M120-120v-720h720v720H120Zm60-500h600v-160H180v160Zm220 220h160v-160H400v160Zm0 220h160v-160H400v160ZM180-400h160v-160H180v160Zm440 0h160v-160H620v160ZM180-180h160v-160H180v160Zm440 0h160v-160H620v160Z\"/>\n",
              "  </svg>\n",
              "    </button>\n",
              "\n",
              "  <style>\n",
              "    .colab-df-container {\n",
              "      display:flex;\n",
              "      gap: 12px;\n",
              "    }\n",
              "\n",
              "    .colab-df-convert {\n",
              "      background-color: #E8F0FE;\n",
              "      border: none;\n",
              "      border-radius: 50%;\n",
              "      cursor: pointer;\n",
              "      display: none;\n",
              "      fill: #1967D2;\n",
              "      height: 32px;\n",
              "      padding: 0 0 0 0;\n",
              "      width: 32px;\n",
              "    }\n",
              "\n",
              "    .colab-df-convert:hover {\n",
              "      background-color: #E2EBFA;\n",
              "      box-shadow: 0px 1px 2px rgba(60, 64, 67, 0.3), 0px 1px 3px 1px rgba(60, 64, 67, 0.15);\n",
              "      fill: #174EA6;\n",
              "    }\n",
              "\n",
              "    .colab-df-buttons div {\n",
              "      margin-bottom: 4px;\n",
              "    }\n",
              "\n",
              "    [theme=dark] .colab-df-convert {\n",
              "      background-color: #3B4455;\n",
              "      fill: #D2E3FC;\n",
              "    }\n",
              "\n",
              "    [theme=dark] .colab-df-convert:hover {\n",
              "      background-color: #434B5C;\n",
              "      box-shadow: 0px 1px 3px 1px rgba(0, 0, 0, 0.15);\n",
              "      filter: drop-shadow(0px 1px 2px rgba(0, 0, 0, 0.3));\n",
              "      fill: #FFFFFF;\n",
              "    }\n",
              "  </style>\n",
              "\n",
              "    <script>\n",
              "      const buttonEl =\n",
              "        document.querySelector('#df-b5a12177-bfe4-4144-80b9-7560874e1749 button.colab-df-convert');\n",
              "      buttonEl.style.display =\n",
              "        google.colab.kernel.accessAllowed ? 'block' : 'none';\n",
              "\n",
              "      async function convertToInteractive(key) {\n",
              "        const element = document.querySelector('#df-b5a12177-bfe4-4144-80b9-7560874e1749');\n",
              "        const dataTable =\n",
              "          await google.colab.kernel.invokeFunction('convertToInteractive',\n",
              "                                                    [key], {});\n",
              "        if (!dataTable) return;\n",
              "\n",
              "        const docLinkHtml = 'Like what you see? Visit the ' +\n",
              "          '<a target=\"_blank\" href=https://colab.research.google.com/notebooks/data_table.ipynb>data table notebook</a>'\n",
              "          + ' to learn more about interactive tables.';\n",
              "        element.innerHTML = '';\n",
              "        dataTable['output_type'] = 'display_data';\n",
              "        await google.colab.output.renderOutput(dataTable, element);\n",
              "        const docLink = document.createElement('div');\n",
              "        docLink.innerHTML = docLinkHtml;\n",
              "        element.appendChild(docLink);\n",
              "      }\n",
              "    </script>\n",
              "  </div>\n",
              "\n",
              "\n",
              "<div id=\"df-8333635b-455e-4b80-ab18-0844f0782ae4\">\n",
              "  <button class=\"colab-df-quickchart\" onclick=\"quickchart('df-8333635b-455e-4b80-ab18-0844f0782ae4')\"\n",
              "            title=\"Suggest charts\"\n",
              "            style=\"display:none;\">\n",
              "\n",
              "<svg xmlns=\"http://www.w3.org/2000/svg\" height=\"24px\"viewBox=\"0 0 24 24\"\n",
              "     width=\"24px\">\n",
              "    <g>\n",
              "        <path d=\"M19 3H5c-1.1 0-2 .9-2 2v14c0 1.1.9 2 2 2h14c1.1 0 2-.9 2-2V5c0-1.1-.9-2-2-2zM9 17H7v-7h2v7zm4 0h-2V7h2v10zm4 0h-2v-4h2v4z\"/>\n",
              "    </g>\n",
              "</svg>\n",
              "  </button>\n",
              "\n",
              "<style>\n",
              "  .colab-df-quickchart {\n",
              "      --bg-color: #E8F0FE;\n",
              "      --fill-color: #1967D2;\n",
              "      --hover-bg-color: #E2EBFA;\n",
              "      --hover-fill-color: #174EA6;\n",
              "      --disabled-fill-color: #AAA;\n",
              "      --disabled-bg-color: #DDD;\n",
              "  }\n",
              "\n",
              "  [theme=dark] .colab-df-quickchart {\n",
              "      --bg-color: #3B4455;\n",
              "      --fill-color: #D2E3FC;\n",
              "      --hover-bg-color: #434B5C;\n",
              "      --hover-fill-color: #FFFFFF;\n",
              "      --disabled-bg-color: #3B4455;\n",
              "      --disabled-fill-color: #666;\n",
              "  }\n",
              "\n",
              "  .colab-df-quickchart {\n",
              "    background-color: var(--bg-color);\n",
              "    border: none;\n",
              "    border-radius: 50%;\n",
              "    cursor: pointer;\n",
              "    display: none;\n",
              "    fill: var(--fill-color);\n",
              "    height: 32px;\n",
              "    padding: 0;\n",
              "    width: 32px;\n",
              "  }\n",
              "\n",
              "  .colab-df-quickchart:hover {\n",
              "    background-color: var(--hover-bg-color);\n",
              "    box-shadow: 0 1px 2px rgba(60, 64, 67, 0.3), 0 1px 3px 1px rgba(60, 64, 67, 0.15);\n",
              "    fill: var(--button-hover-fill-color);\n",
              "  }\n",
              "\n",
              "  .colab-df-quickchart-complete:disabled,\n",
              "  .colab-df-quickchart-complete:disabled:hover {\n",
              "    background-color: var(--disabled-bg-color);\n",
              "    fill: var(--disabled-fill-color);\n",
              "    box-shadow: none;\n",
              "  }\n",
              "\n",
              "  .colab-df-spinner {\n",
              "    border: 2px solid var(--fill-color);\n",
              "    border-color: transparent;\n",
              "    border-bottom-color: var(--fill-color);\n",
              "    animation:\n",
              "      spin 1s steps(1) infinite;\n",
              "  }\n",
              "\n",
              "  @keyframes spin {\n",
              "    0% {\n",
              "      border-color: transparent;\n",
              "      border-bottom-color: var(--fill-color);\n",
              "      border-left-color: var(--fill-color);\n",
              "    }\n",
              "    20% {\n",
              "      border-color: transparent;\n",
              "      border-left-color: var(--fill-color);\n",
              "      border-top-color: var(--fill-color);\n",
              "    }\n",
              "    30% {\n",
              "      border-color: transparent;\n",
              "      border-left-color: var(--fill-color);\n",
              "      border-top-color: var(--fill-color);\n",
              "      border-right-color: var(--fill-color);\n",
              "    }\n",
              "    40% {\n",
              "      border-color: transparent;\n",
              "      border-right-color: var(--fill-color);\n",
              "      border-top-color: var(--fill-color);\n",
              "    }\n",
              "    60% {\n",
              "      border-color: transparent;\n",
              "      border-right-color: var(--fill-color);\n",
              "    }\n",
              "    80% {\n",
              "      border-color: transparent;\n",
              "      border-right-color: var(--fill-color);\n",
              "      border-bottom-color: var(--fill-color);\n",
              "    }\n",
              "    90% {\n",
              "      border-color: transparent;\n",
              "      border-bottom-color: var(--fill-color);\n",
              "    }\n",
              "  }\n",
              "</style>\n",
              "\n",
              "  <script>\n",
              "    async function quickchart(key) {\n",
              "      const quickchartButtonEl =\n",
              "        document.querySelector('#' + key + ' button');\n",
              "      quickchartButtonEl.disabled = true;  // To prevent multiple clicks.\n",
              "      quickchartButtonEl.classList.add('colab-df-spinner');\n",
              "      try {\n",
              "        const charts = await google.colab.kernel.invokeFunction(\n",
              "            'suggestCharts', [key], {});\n",
              "      } catch (error) {\n",
              "        console.error('Error during call to suggestCharts:', error);\n",
              "      }\n",
              "      quickchartButtonEl.classList.remove('colab-df-spinner');\n",
              "      quickchartButtonEl.classList.add('colab-df-quickchart-complete');\n",
              "    }\n",
              "    (() => {\n",
              "      let quickchartButtonEl =\n",
              "        document.querySelector('#df-8333635b-455e-4b80-ab18-0844f0782ae4 button');\n",
              "      quickchartButtonEl.style.display =\n",
              "        google.colab.kernel.accessAllowed ? 'block' : 'none';\n",
              "    })();\n",
              "  </script>\n",
              "</div>\n",
              "\n",
              "  <div id=\"id_4b5d34c5-7870-4dea-956a-0d32e7289a6f\">\n",
              "    <style>\n",
              "      .colab-df-generate {\n",
              "        background-color: #E8F0FE;\n",
              "        border: none;\n",
              "        border-radius: 50%;\n",
              "        cursor: pointer;\n",
              "        display: none;\n",
              "        fill: #1967D2;\n",
              "        height: 32px;\n",
              "        padding: 0 0 0 0;\n",
              "        width: 32px;\n",
              "      }\n",
              "\n",
              "      .colab-df-generate:hover {\n",
              "        background-color: #E2EBFA;\n",
              "        box-shadow: 0px 1px 2px rgba(60, 64, 67, 0.3), 0px 1px 3px 1px rgba(60, 64, 67, 0.15);\n",
              "        fill: #174EA6;\n",
              "      }\n",
              "\n",
              "      [theme=dark] .colab-df-generate {\n",
              "        background-color: #3B4455;\n",
              "        fill: #D2E3FC;\n",
              "      }\n",
              "\n",
              "      [theme=dark] .colab-df-generate:hover {\n",
              "        background-color: #434B5C;\n",
              "        box-shadow: 0px 1px 3px 1px rgba(0, 0, 0, 0.15);\n",
              "        filter: drop-shadow(0px 1px 2px rgba(0, 0, 0, 0.3));\n",
              "        fill: #FFFFFF;\n",
              "      }\n",
              "    </style>\n",
              "    <button class=\"colab-df-generate\" onclick=\"generateWithVariable('X')\"\n",
              "            title=\"Generate code using this dataframe.\"\n",
              "            style=\"display:none;\">\n",
              "\n",
              "  <svg xmlns=\"http://www.w3.org/2000/svg\" height=\"24px\"viewBox=\"0 0 24 24\"\n",
              "       width=\"24px\">\n",
              "    <path d=\"M7,19H8.4L18.45,9,17,7.55,7,17.6ZM5,21V16.75L18.45,3.32a2,2,0,0,1,2.83,0l1.4,1.43a1.91,1.91,0,0,1,.58,1.4,1.91,1.91,0,0,1-.58,1.4L9.25,21ZM18.45,9,17,7.55Zm-12,3A5.31,5.31,0,0,0,4.9,8.1,5.31,5.31,0,0,0,1,6.5,5.31,5.31,0,0,0,4.9,4.9,5.31,5.31,0,0,0,6.5,1,5.31,5.31,0,0,0,8.1,4.9,5.31,5.31,0,0,0,12,6.5,5.46,5.46,0,0,0,6.5,12Z\"/>\n",
              "  </svg>\n",
              "    </button>\n",
              "    <script>\n",
              "      (() => {\n",
              "      const buttonEl =\n",
              "        document.querySelector('#id_4b5d34c5-7870-4dea-956a-0d32e7289a6f button.colab-df-generate');\n",
              "      buttonEl.style.display =\n",
              "        google.colab.kernel.accessAllowed ? 'block' : 'none';\n",
              "\n",
              "      buttonEl.onclick = () => {\n",
              "        google.colab.notebook.generateWithVariable('X');\n",
              "      }\n",
              "      })();\n",
              "    </script>\n",
              "  </div>\n",
              "\n",
              "    </div>\n",
              "  </div>\n"
            ],
            "application/vnd.google.colaboratory.intrinsic+json": {
              "type": "dataframe",
              "variable_name": "X",
              "summary": "{\n  \"name\": \"X\",\n  \"rows\": 265,\n  \"fields\": [\n    {\n      \"column\": \"bill_length_mm\",\n      \"properties\": {\n        \"dtype\": \"number\",\n        \"std\": 5.214803525997052,\n        \"min\": 32.1,\n        \"max\": 59.6,\n        \"num_unique_values\": 145,\n        \"samples\": [\n          41.5,\n          48.1,\n          42.2\n        ],\n        \"semantic_type\": \"\",\n        \"description\": \"\"\n      }\n    },\n    {\n      \"column\": \"bill_depth_mm\",\n      \"properties\": {\n        \"dtype\": \"number\",\n        \"std\": 2.0097754952860427,\n        \"min\": 13.1,\n        \"max\": 21.5,\n        \"num_unique_values\": 77,\n        \"samples\": [\n          20.6,\n          16.2,\n          19.0\n        ],\n        \"semantic_type\": \"\",\n        \"description\": \"\"\n      }\n    },\n    {\n      \"column\": \"flipper_length_mm\",\n      \"properties\": {\n        \"dtype\": \"number\",\n        \"std\": 15,\n        \"min\": 172,\n        \"max\": 231,\n        \"num_unique_values\": 53,\n        \"samples\": [\n          188,\n          221,\n          231\n        ],\n        \"semantic_type\": \"\",\n        \"description\": \"\"\n      }\n    }\n  ]\n}"
            }
          },
          "metadata": {},
          "execution_count": 398
        }
      ]
    },
    {
      "cell_type": "code",
      "source": [
        "Y"
      ],
      "metadata": {
        "colab": {
          "base_uri": "https://localhost:8080/",
          "height": 424
        },
        "id": "wJLE1fUg-kvy",
        "outputId": "577d5be6-eec5-4364-8715-bb3109625333"
      },
      "id": "wJLE1fUg-kvy",
      "execution_count": null,
      "outputs": [
        {
          "output_type": "execute_result",
          "data": {
            "text/plain": [
              "     species\n",
              "0          1\n",
              "1          1\n",
              "2          1\n",
              "3          1\n",
              "4          1\n",
              "..       ...\n",
              "260        0\n",
              "261        0\n",
              "262        0\n",
              "263        0\n",
              "264        0\n",
              "\n",
              "[265 rows x 1 columns]"
            ],
            "text/html": [
              "\n",
              "  <div id=\"df-eae8f33b-a91f-4341-a801-7a40cafc7c94\" class=\"colab-df-container\">\n",
              "    <div>\n",
              "<style scoped>\n",
              "    .dataframe tbody tr th:only-of-type {\n",
              "        vertical-align: middle;\n",
              "    }\n",
              "\n",
              "    .dataframe tbody tr th {\n",
              "        vertical-align: top;\n",
              "    }\n",
              "\n",
              "    .dataframe thead th {\n",
              "        text-align: right;\n",
              "    }\n",
              "</style>\n",
              "<table border=\"1\" class=\"dataframe\">\n",
              "  <thead>\n",
              "    <tr style=\"text-align: right;\">\n",
              "      <th></th>\n",
              "      <th>species</th>\n",
              "    </tr>\n",
              "  </thead>\n",
              "  <tbody>\n",
              "    <tr>\n",
              "      <th>0</th>\n",
              "      <td>1</td>\n",
              "    </tr>\n",
              "    <tr>\n",
              "      <th>1</th>\n",
              "      <td>1</td>\n",
              "    </tr>\n",
              "    <tr>\n",
              "      <th>2</th>\n",
              "      <td>1</td>\n",
              "    </tr>\n",
              "    <tr>\n",
              "      <th>3</th>\n",
              "      <td>1</td>\n",
              "    </tr>\n",
              "    <tr>\n",
              "      <th>4</th>\n",
              "      <td>1</td>\n",
              "    </tr>\n",
              "    <tr>\n",
              "      <th>...</th>\n",
              "      <td>...</td>\n",
              "    </tr>\n",
              "    <tr>\n",
              "      <th>260</th>\n",
              "      <td>0</td>\n",
              "    </tr>\n",
              "    <tr>\n",
              "      <th>261</th>\n",
              "      <td>0</td>\n",
              "    </tr>\n",
              "    <tr>\n",
              "      <th>262</th>\n",
              "      <td>0</td>\n",
              "    </tr>\n",
              "    <tr>\n",
              "      <th>263</th>\n",
              "      <td>0</td>\n",
              "    </tr>\n",
              "    <tr>\n",
              "      <th>264</th>\n",
              "      <td>0</td>\n",
              "    </tr>\n",
              "  </tbody>\n",
              "</table>\n",
              "<p>265 rows × 1 columns</p>\n",
              "</div>\n",
              "    <div class=\"colab-df-buttons\">\n",
              "\n",
              "  <div class=\"colab-df-container\">\n",
              "    <button class=\"colab-df-convert\" onclick=\"convertToInteractive('df-eae8f33b-a91f-4341-a801-7a40cafc7c94')\"\n",
              "            title=\"Convert this dataframe to an interactive table.\"\n",
              "            style=\"display:none;\">\n",
              "\n",
              "  <svg xmlns=\"http://www.w3.org/2000/svg\" height=\"24px\" viewBox=\"0 -960 960 960\">\n",
              "    <path d=\"M120-120v-720h720v720H120Zm60-500h600v-160H180v160Zm220 220h160v-160H400v160Zm0 220h160v-160H400v160ZM180-400h160v-160H180v160Zm440 0h160v-160H620v160ZM180-180h160v-160H180v160Zm440 0h160v-160H620v160Z\"/>\n",
              "  </svg>\n",
              "    </button>\n",
              "\n",
              "  <style>\n",
              "    .colab-df-container {\n",
              "      display:flex;\n",
              "      gap: 12px;\n",
              "    }\n",
              "\n",
              "    .colab-df-convert {\n",
              "      background-color: #E8F0FE;\n",
              "      border: none;\n",
              "      border-radius: 50%;\n",
              "      cursor: pointer;\n",
              "      display: none;\n",
              "      fill: #1967D2;\n",
              "      height: 32px;\n",
              "      padding: 0 0 0 0;\n",
              "      width: 32px;\n",
              "    }\n",
              "\n",
              "    .colab-df-convert:hover {\n",
              "      background-color: #E2EBFA;\n",
              "      box-shadow: 0px 1px 2px rgba(60, 64, 67, 0.3), 0px 1px 3px 1px rgba(60, 64, 67, 0.15);\n",
              "      fill: #174EA6;\n",
              "    }\n",
              "\n",
              "    .colab-df-buttons div {\n",
              "      margin-bottom: 4px;\n",
              "    }\n",
              "\n",
              "    [theme=dark] .colab-df-convert {\n",
              "      background-color: #3B4455;\n",
              "      fill: #D2E3FC;\n",
              "    }\n",
              "\n",
              "    [theme=dark] .colab-df-convert:hover {\n",
              "      background-color: #434B5C;\n",
              "      box-shadow: 0px 1px 3px 1px rgba(0, 0, 0, 0.15);\n",
              "      filter: drop-shadow(0px 1px 2px rgba(0, 0, 0, 0.3));\n",
              "      fill: #FFFFFF;\n",
              "    }\n",
              "  </style>\n",
              "\n",
              "    <script>\n",
              "      const buttonEl =\n",
              "        document.querySelector('#df-eae8f33b-a91f-4341-a801-7a40cafc7c94 button.colab-df-convert');\n",
              "      buttonEl.style.display =\n",
              "        google.colab.kernel.accessAllowed ? 'block' : 'none';\n",
              "\n",
              "      async function convertToInteractive(key) {\n",
              "        const element = document.querySelector('#df-eae8f33b-a91f-4341-a801-7a40cafc7c94');\n",
              "        const dataTable =\n",
              "          await google.colab.kernel.invokeFunction('convertToInteractive',\n",
              "                                                    [key], {});\n",
              "        if (!dataTable) return;\n",
              "\n",
              "        const docLinkHtml = 'Like what you see? Visit the ' +\n",
              "          '<a target=\"_blank\" href=https://colab.research.google.com/notebooks/data_table.ipynb>data table notebook</a>'\n",
              "          + ' to learn more about interactive tables.';\n",
              "        element.innerHTML = '';\n",
              "        dataTable['output_type'] = 'display_data';\n",
              "        await google.colab.output.renderOutput(dataTable, element);\n",
              "        const docLink = document.createElement('div');\n",
              "        docLink.innerHTML = docLinkHtml;\n",
              "        element.appendChild(docLink);\n",
              "      }\n",
              "    </script>\n",
              "  </div>\n",
              "\n",
              "\n",
              "<div id=\"df-6e292640-5d7f-402b-a17c-c70994a126d0\">\n",
              "  <button class=\"colab-df-quickchart\" onclick=\"quickchart('df-6e292640-5d7f-402b-a17c-c70994a126d0')\"\n",
              "            title=\"Suggest charts\"\n",
              "            style=\"display:none;\">\n",
              "\n",
              "<svg xmlns=\"http://www.w3.org/2000/svg\" height=\"24px\"viewBox=\"0 0 24 24\"\n",
              "     width=\"24px\">\n",
              "    <g>\n",
              "        <path d=\"M19 3H5c-1.1 0-2 .9-2 2v14c0 1.1.9 2 2 2h14c1.1 0 2-.9 2-2V5c0-1.1-.9-2-2-2zM9 17H7v-7h2v7zm4 0h-2V7h2v10zm4 0h-2v-4h2v4z\"/>\n",
              "    </g>\n",
              "</svg>\n",
              "  </button>\n",
              "\n",
              "<style>\n",
              "  .colab-df-quickchart {\n",
              "      --bg-color: #E8F0FE;\n",
              "      --fill-color: #1967D2;\n",
              "      --hover-bg-color: #E2EBFA;\n",
              "      --hover-fill-color: #174EA6;\n",
              "      --disabled-fill-color: #AAA;\n",
              "      --disabled-bg-color: #DDD;\n",
              "  }\n",
              "\n",
              "  [theme=dark] .colab-df-quickchart {\n",
              "      --bg-color: #3B4455;\n",
              "      --fill-color: #D2E3FC;\n",
              "      --hover-bg-color: #434B5C;\n",
              "      --hover-fill-color: #FFFFFF;\n",
              "      --disabled-bg-color: #3B4455;\n",
              "      --disabled-fill-color: #666;\n",
              "  }\n",
              "\n",
              "  .colab-df-quickchart {\n",
              "    background-color: var(--bg-color);\n",
              "    border: none;\n",
              "    border-radius: 50%;\n",
              "    cursor: pointer;\n",
              "    display: none;\n",
              "    fill: var(--fill-color);\n",
              "    height: 32px;\n",
              "    padding: 0;\n",
              "    width: 32px;\n",
              "  }\n",
              "\n",
              "  .colab-df-quickchart:hover {\n",
              "    background-color: var(--hover-bg-color);\n",
              "    box-shadow: 0 1px 2px rgba(60, 64, 67, 0.3), 0 1px 3px 1px rgba(60, 64, 67, 0.15);\n",
              "    fill: var(--button-hover-fill-color);\n",
              "  }\n",
              "\n",
              "  .colab-df-quickchart-complete:disabled,\n",
              "  .colab-df-quickchart-complete:disabled:hover {\n",
              "    background-color: var(--disabled-bg-color);\n",
              "    fill: var(--disabled-fill-color);\n",
              "    box-shadow: none;\n",
              "  }\n",
              "\n",
              "  .colab-df-spinner {\n",
              "    border: 2px solid var(--fill-color);\n",
              "    border-color: transparent;\n",
              "    border-bottom-color: var(--fill-color);\n",
              "    animation:\n",
              "      spin 1s steps(1) infinite;\n",
              "  }\n",
              "\n",
              "  @keyframes spin {\n",
              "    0% {\n",
              "      border-color: transparent;\n",
              "      border-bottom-color: var(--fill-color);\n",
              "      border-left-color: var(--fill-color);\n",
              "    }\n",
              "    20% {\n",
              "      border-color: transparent;\n",
              "      border-left-color: var(--fill-color);\n",
              "      border-top-color: var(--fill-color);\n",
              "    }\n",
              "    30% {\n",
              "      border-color: transparent;\n",
              "      border-left-color: var(--fill-color);\n",
              "      border-top-color: var(--fill-color);\n",
              "      border-right-color: var(--fill-color);\n",
              "    }\n",
              "    40% {\n",
              "      border-color: transparent;\n",
              "      border-right-color: var(--fill-color);\n",
              "      border-top-color: var(--fill-color);\n",
              "    }\n",
              "    60% {\n",
              "      border-color: transparent;\n",
              "      border-right-color: var(--fill-color);\n",
              "    }\n",
              "    80% {\n",
              "      border-color: transparent;\n",
              "      border-right-color: var(--fill-color);\n",
              "      border-bottom-color: var(--fill-color);\n",
              "    }\n",
              "    90% {\n",
              "      border-color: transparent;\n",
              "      border-bottom-color: var(--fill-color);\n",
              "    }\n",
              "  }\n",
              "</style>\n",
              "\n",
              "  <script>\n",
              "    async function quickchart(key) {\n",
              "      const quickchartButtonEl =\n",
              "        document.querySelector('#' + key + ' button');\n",
              "      quickchartButtonEl.disabled = true;  // To prevent multiple clicks.\n",
              "      quickchartButtonEl.classList.add('colab-df-spinner');\n",
              "      try {\n",
              "        const charts = await google.colab.kernel.invokeFunction(\n",
              "            'suggestCharts', [key], {});\n",
              "      } catch (error) {\n",
              "        console.error('Error during call to suggestCharts:', error);\n",
              "      }\n",
              "      quickchartButtonEl.classList.remove('colab-df-spinner');\n",
              "      quickchartButtonEl.classList.add('colab-df-quickchart-complete');\n",
              "    }\n",
              "    (() => {\n",
              "      let quickchartButtonEl =\n",
              "        document.querySelector('#df-6e292640-5d7f-402b-a17c-c70994a126d0 button');\n",
              "      quickchartButtonEl.style.display =\n",
              "        google.colab.kernel.accessAllowed ? 'block' : 'none';\n",
              "    })();\n",
              "  </script>\n",
              "</div>\n",
              "\n",
              "  <div id=\"id_cdcc84c4-078e-4ad6-8c90-c7d933c1242f\">\n",
              "    <style>\n",
              "      .colab-df-generate {\n",
              "        background-color: #E8F0FE;\n",
              "        border: none;\n",
              "        border-radius: 50%;\n",
              "        cursor: pointer;\n",
              "        display: none;\n",
              "        fill: #1967D2;\n",
              "        height: 32px;\n",
              "        padding: 0 0 0 0;\n",
              "        width: 32px;\n",
              "      }\n",
              "\n",
              "      .colab-df-generate:hover {\n",
              "        background-color: #E2EBFA;\n",
              "        box-shadow: 0px 1px 2px rgba(60, 64, 67, 0.3), 0px 1px 3px 1px rgba(60, 64, 67, 0.15);\n",
              "        fill: #174EA6;\n",
              "      }\n",
              "\n",
              "      [theme=dark] .colab-df-generate {\n",
              "        background-color: #3B4455;\n",
              "        fill: #D2E3FC;\n",
              "      }\n",
              "\n",
              "      [theme=dark] .colab-df-generate:hover {\n",
              "        background-color: #434B5C;\n",
              "        box-shadow: 0px 1px 3px 1px rgba(0, 0, 0, 0.15);\n",
              "        filter: drop-shadow(0px 1px 2px rgba(0, 0, 0, 0.3));\n",
              "        fill: #FFFFFF;\n",
              "      }\n",
              "    </style>\n",
              "    <button class=\"colab-df-generate\" onclick=\"generateWithVariable('Y')\"\n",
              "            title=\"Generate code using this dataframe.\"\n",
              "            style=\"display:none;\">\n",
              "\n",
              "  <svg xmlns=\"http://www.w3.org/2000/svg\" height=\"24px\"viewBox=\"0 0 24 24\"\n",
              "       width=\"24px\">\n",
              "    <path d=\"M7,19H8.4L18.45,9,17,7.55,7,17.6ZM5,21V16.75L18.45,3.32a2,2,0,0,1,2.83,0l1.4,1.43a1.91,1.91,0,0,1,.58,1.4,1.91,1.91,0,0,1-.58,1.4L9.25,21ZM18.45,9,17,7.55Zm-12,3A5.31,5.31,0,0,0,4.9,8.1,5.31,5.31,0,0,0,1,6.5,5.31,5.31,0,0,0,4.9,4.9,5.31,5.31,0,0,0,6.5,1,5.31,5.31,0,0,0,8.1,4.9,5.31,5.31,0,0,0,12,6.5,5.46,5.46,0,0,0,6.5,12Z\"/>\n",
              "  </svg>\n",
              "    </button>\n",
              "    <script>\n",
              "      (() => {\n",
              "      const buttonEl =\n",
              "        document.querySelector('#id_cdcc84c4-078e-4ad6-8c90-c7d933c1242f button.colab-df-generate');\n",
              "      buttonEl.style.display =\n",
              "        google.colab.kernel.accessAllowed ? 'block' : 'none';\n",
              "\n",
              "      buttonEl.onclick = () => {\n",
              "        google.colab.notebook.generateWithVariable('Y');\n",
              "      }\n",
              "      })();\n",
              "    </script>\n",
              "  </div>\n",
              "\n",
              "    </div>\n",
              "  </div>\n"
            ],
            "application/vnd.google.colaboratory.intrinsic+json": {
              "type": "dataframe",
              "variable_name": "Y",
              "summary": "{\n  \"name\": \"Y\",\n  \"rows\": 265,\n  \"fields\": [\n    {\n      \"column\": \"species\",\n      \"properties\": {\n        \"dtype\": \"number\",\n        \"std\": 0,\n        \"min\": 0,\n        \"max\": 1,\n        \"num_unique_values\": 2,\n        \"samples\": [\n          0,\n          1\n        ],\n        \"semantic_type\": \"\",\n        \"description\": \"\"\n      }\n    }\n  ]\n}"
            }
          },
          "metadata": {},
          "execution_count": 399
        }
      ]
    },
    {
      "cell_type": "markdown",
      "source": [
        "> #### Notice that the `X` dataset consists of 265 different samples (penguins) with 3 features each (`bill_length_mm`, `bill_depth_mm`, and `flipper_length_mm`).  \n",
        "\n",
        "> #### Neural network takes as input each row of the `X` dataset (which is a vector in $\\mathbb{R}^3$) and outputs a value that classifies the species of penguin.  2 types of penguins in the `Y` dataset, 0 and 1.  "
      ],
      "metadata": {
        "id": "GcUs8POR-s69"
      },
      "id": "GcUs8POR-s69"
    },
    {
      "cell_type": "markdown",
      "id": "7a47261c",
      "metadata": {
        "id": "7a47261c"
      },
      "source": [
        "---\n",
        "# Neural Network"
      ]
    },
    {
      "cell_type": "markdown",
      "id": "2a369a29",
      "metadata": {
        "id": "2a369a29"
      },
      "source": [
        "# Load Libraries"
      ]
    },
    {
      "cell_type": "code",
      "execution_count": null,
      "id": "71669f29",
      "metadata": {
        "id": "71669f29"
      },
      "outputs": [],
      "source": [
        "import numpy as np\n",
        "import pandas as pd\n",
        "from sklearn.model_selection import train_test_split\n",
        "from sklearn.preprocessing import normalize\n",
        "import matplotlib.pyplot as plt"
      ]
    },
    {
      "cell_type": "markdown",
      "id": "ee8be56c",
      "metadata": {
        "id": "ee8be56c"
      },
      "source": [
        "# Create Functions"
      ]
    },
    {
      "cell_type": "markdown",
      "id": "c1233ded",
      "metadata": {
        "id": "c1233ded"
      },
      "source": [
        "## Small Helper Functions:"
      ]
    },
    {
      "cell_type": "markdown",
      "id": "fa53e104",
      "metadata": {
        "id": "fa53e104"
      },
      "source": [
        "#### `sigma(z)`\n",
        "- activation function\n",
        "-takes in a numpy array `z` and returns sigma `sig_z`"
      ]
    },
    {
      "cell_type": "code",
      "execution_count": null,
      "id": "5b5f637b",
      "metadata": {
        "id": "5b5f637b"
      },
      "outputs": [],
      "source": [
        "def sigma(z):\n",
        "    sig_z = 1/(1+np.exp(-z))\n",
        "    return sig_z"
      ]
    },
    {
      "cell_type": "markdown",
      "id": "61c46a36",
      "metadata": {
        "id": "61c46a36"
      },
      "source": [
        "#### `sigma_derivative(a)`\n",
        "- derivative of activation function - for backpropogation\n",
        "- takes in numpy array `a`, such that `a` = `sigma(z)`, and returns the sigma derivative `sig_deriv_a`"
      ]
    },
    {
      "cell_type": "code",
      "execution_count": null,
      "id": "63989bc2",
      "metadata": {
        "id": "63989bc2"
      },
      "outputs": [],
      "source": [
        "def sigma_derivative(a):\n",
        "    sig_deriv_a = a * (1 - a)\n",
        "    return sig_deriv_a"
      ]
    },
    {
      "cell_type": "markdown",
      "id": "d7c0b2ff",
      "metadata": {
        "id": "d7c0b2ff"
      },
      "source": [
        "#### `initialize_random_weights(i,j)`\n",
        "- initialize a n`i` by `j`  numpy matrix with random values (from a standard normal distribution)\n",
        "- takes in integer dimensions `i` and `j` and returns a `matrix` of random values"
      ]
    },
    {
      "cell_type": "code",
      "execution_count": null,
      "id": "ce1d5f83",
      "metadata": {
        "id": "ce1d5f83"
      },
      "outputs": [],
      "source": [
        "def initialize_random_weights(i,j):\n",
        "    return np.random.uniform(0, 1, size=(i,j))"
      ]
    },
    {
      "cell_type": "markdown",
      "id": "596f6260",
      "metadata": {
        "id": "596f6260"
      },
      "source": [
        "#### `cost_function(y, y_hat)`\n",
        "- takes in two values `y`, `yhat` and returns `error` between them"
      ]
    },
    {
      "cell_type": "code",
      "execution_count": null,
      "id": "bb2279c6",
      "metadata": {
        "id": "bb2279c6"
      },
      "outputs": [],
      "source": [
        "def cost_function(y, y_hat):\n",
        "    y = np.asarray(y)\n",
        "    y_hat = np.asarray(y_hat)\n",
        "    n = 2*len(y)\n",
        "    diff = (y - y_hat)**2\n",
        "    cost = np.sum(diff)\n",
        "    error = cost / n\n",
        "    return error"
      ]
    },
    {
      "cell_type": "markdown",
      "id": "54e50ed1",
      "metadata": {
        "id": "54e50ed1"
      },
      "source": [
        "## Major Functions:"
      ]
    },
    {
      "cell_type": "markdown",
      "id": "73f4b896",
      "metadata": {
        "id": "73f4b896"
      },
      "source": [
        "#### ` feed_forward(x)`\n",
        "- takes in input numpy array `x` and applies linear transformation and sigmoid function for layers 1 and 2\n",
        "- returns output values for layers 1 and 2: `a1` = (a11, a12, a13) and `a2` = (a21)\n",
        "- INITIALIZE your weight matrices (W1 and W2 ) before doing this"
      ]
    },
    {
      "cell_type": "code",
      "execution_count": null,
      "id": "364373fc",
      "metadata": {
        "id": "364373fc"
      },
      "outputs": [],
      "source": [
        "def feed_forward(x):\n",
        "    z1 = np.dot(W1, x) + b1\n",
        "    a1 = sigma(z1)\n",
        "    z2 = np.dot(W2.T, a1) + b2\n",
        "    a2 = sigma(z2)\n",
        "    return a1, a2\n",
        "    # a1, a2 are intermediate step"
      ]
    },
    {
      "cell_type": "markdown",
      "id": "59cf247c",
      "metadata": {
        "id": "59cf247c"
      },
      "source": [
        "#### `gradient(x,y,a1,a2)`\n",
        "- takes in input `x` and output `y` as well as calculated hidden layer `a1` and calculated output layer `a2`\n",
        "- calculates the gradient (see equations above) and returns change in weight matrices `dW1`, `dW2` and biases `db1`, `db2`"
      ]
    },
    {
      "cell_type": "code",
      "execution_count": null,
      "id": "a86c475a",
      "metadata": {
        "id": "a86c475a"
      },
      "outputs": [],
      "source": [
        "def gradient(x, y, a1, a2):\n",
        "    left = (a2 - y) * sigma_derivative(a2)\n",
        "    right1 = np.dot(W2, left) * sigma_derivative(a1)\n",
        "\n",
        "    dW1 = np.dot(right1, x.T)\n",
        "    db1 = right1\n",
        "\n",
        "    dW2 = np.dot(left, a1.T)\n",
        "    db2 = left\n",
        "\n",
        "    return dW1, db1, dW2, db2\n",
        "    # matrix of derivatives, vectors"
      ]
    },
    {
      "cell_type": "markdown",
      "id": "278c2212",
      "metadata": {
        "id": "278c2212"
      },
      "source": [
        "#### `train(inputs, outputs, learning_rate, epochs)`\n",
        "- applies helper functions to train neural network\n",
        "- does not need to return anything, works by updating weights and biases `W1`, `W2`, `b1`, `b2`"
      ]
    },
    {
      "cell_type": "code",
      "execution_count": null,
      "id": "d5a8da57",
      "metadata": {
        "id": "d5a8da57"
      },
      "outputs": [],
      "source": [
        "def train(inputs, outputs, learning_rate, epochs):\n",
        "    global output\n",
        "    output = []\n",
        "    for epoch in range(epochs):\n",
        "        error = 0\n",
        "        for x,y in zip(inputs,outputs):\n",
        "            # reshape x to correct vector size\n",
        "            x = np.reshape(x, (3,1))\n",
        "\n",
        "            # edit: feed forward\n",
        "              # call function from abaove\n",
        "            a1, a2 = feed_forward(x)\n",
        "\n",
        "            # edit: calculate error using cost function\n",
        "              # want to keep track of cost function\n",
        "            cost = cost_function(y, a2)\n",
        "            error += cost\n",
        "\n",
        "            # edit: backpropogate using gradient function\n",
        "              # call gradient function\n",
        "            dW1, db1, dW2, db2 = gradient(x, y, a1, a2)\n",
        "\n",
        "            # set to global variable to update values outside of function\n",
        "            global W1\n",
        "            global b1\n",
        "            global W2\n",
        "            global b2\n",
        "\n",
        "            # edit: reassign matrices\n",
        "            W1 -= learning_rate * dW1\n",
        "            b1 -= learning_rate * db1\n",
        "            W2 -= learning_rate * dW2.T\n",
        "            b2 -= learning_rate * db2\n",
        "\n",
        "            # this function gets repeated\n",
        "        error = error / len(inputs)\n",
        "        output.append((epoch+1, error))\n",
        "        # print(error)\n",
        "        if epoch % 50 == 0:\n",
        "            print(\"epoch: \" + str(epoch))\n",
        "            print(\"W1: \" + str(W1))\n",
        "            print(\"W2: \" + str(W2))\n",
        "\n",
        "\n"
      ]
    },
    {
      "cell_type": "markdown",
      "id": "2c37d965",
      "metadata": {
        "id": "2c37d965"
      },
      "source": [
        "#### `test(inputs, outputs)`\n",
        "- run after training to see if neural network works well on other data points that it didn't see during training\n",
        "- takes in test `inputs` and `outputs` and returns `percent_correct`"
      ]
    },
    {
      "cell_type": "code",
      "execution_count": null,
      "id": "137247e8",
      "metadata": {
        "id": "137247e8"
      },
      "outputs": [],
      "source": [
        "def test(inputs, outputs):\n",
        "\n",
        "    count_correct = 0\n",
        "    total_count = len(inputs)\n",
        "    for x,y in zip(inputs,outputs):\n",
        "        # edit: feed forward\n",
        "        x = np.reshape(x, (3, 1))\n",
        "        a1, a2 = feed_forward(x)\n",
        "\n",
        "        # print(a1)\n",
        "        # print(a2)\n",
        "        # print(x)\n",
        "       # print(y)\n",
        "        # print(\"\\n\")\n",
        "        # edit: determine if result is correct & update count_correct value\n",
        "        if (a2 >= 0.5) & (y == 1):\n",
        "            count_correct += 1\n",
        "        elif (a2 < 0.5) & (y == 0):\n",
        "            count_correct += 1\n",
        "\n",
        "\n",
        "    percent_correct = 100*count_correct/total_count\n",
        "    return percent_correct"
      ]
    },
    {
      "cell_type": "markdown",
      "id": "bd17c7e2",
      "metadata": {
        "id": "bd17c7e2"
      },
      "source": [
        "# Load Data and Run Neural Network\n",
        "Try out different values for `learning_rate` or `epochs`\n",
        "\n",
        "**NOTE**: make sure to rerun `initialize_random_weights` each time you train the network (otherwise `train` function will have edited the matices and you want them to start random)"
      ]
    },
    {
      "cell_type": "markdown",
      "id": "faec914f",
      "metadata": {
        "id": "faec914f"
      },
      "source": [
        "### Load Data"
      ]
    },
    {
      "cell_type": "code",
      "execution_count": null,
      "id": "9115ee7f",
      "metadata": {
        "id": "9115ee7f"
      },
      "outputs": [],
      "source": [
        "X = pd.read_csv('penguins1.csv', usecols=range(1,4))\n",
        "X = X.to_numpy()\n",
        "Y = pd.read_csv('penguins2.csv', usecols=range(1,2))\n",
        "Y = Y.to_numpy()\n",
        "# normalize X dataset\n",
        "X = normalize(X, axis=1, norm='l2')"
      ]
    },
    {
      "cell_type": "markdown",
      "id": "99214f39",
      "metadata": {
        "id": "99214f39"
      },
      "source": [
        "### Split into test (`x_test`, `y_test`) and train (`x_train`, `y_train`) datasets"
      ]
    },
    {
      "cell_type": "code",
      "execution_count": null,
      "id": "35322037",
      "metadata": {
        "id": "35322037"
      },
      "outputs": [],
      "source": [
        "x_train,x_test,y_train,y_test = train_test_split(X,Y,test_size=0.2)"
      ]
    },
    {
      "cell_type": "markdown",
      "id": "52ab62d2",
      "metadata": {
        "id": "52ab62d2"
      },
      "source": [
        "### Initialize values of weights `W1`, `W2` and biases `b1`, `b2`"
      ]
    },
    {
      "cell_type": "code",
      "execution_count": null,
      "id": "07f632fb",
      "metadata": {
        "id": "07f632fb"
      },
      "outputs": [],
      "source": [
        "#Weights\n",
        "W1 = initialize_random_weights(3,3)\n",
        "W2 = initialize_random_weights(3,1)\n",
        "\n",
        "#Biases\n",
        "b1 = initialize_random_weights(3,1)\n",
        "b2 = initialize_random_weights(1,1)\n",
        "\n",
        "learning_rate = .1\n",
        "epochs = 550"
      ]
    },
    {
      "cell_type": "markdown",
      "id": "51ac51be",
      "metadata": {
        "id": "51ac51be"
      },
      "source": [
        "### `train`"
      ]
    },
    {
      "cell_type": "code",
      "execution_count": null,
      "id": "6ed3ab7d",
      "metadata": {
        "id": "6ed3ab7d",
        "colab": {
          "base_uri": "https://localhost:8080/"
        },
        "outputId": "514113e6-02a5-4163-d8aa-1a3cdfa16828"
      },
      "outputs": [
        {
          "output_type": "stream",
          "name": "stdout",
          "text": [
            "epoch: 0\n",
            "W1: [[ 0.5196145   0.01426962  0.67907566]\n",
            " [ 0.39371421  0.11750935 -0.0552482 ]\n",
            " [ 0.22355741  0.27796802  0.25976272]]\n",
            "W2: [[-0.22627834]\n",
            " [ 0.66058115]\n",
            " [-0.28202541]]\n",
            "epoch: 50\n",
            "W1: [[ 0.56669456 -0.11869553  0.54599717]\n",
            " [ 0.22234972  0.36251474 -0.14724402]\n",
            " [ 0.26345723  0.16755783  0.15165578]]\n",
            "W2: [[-0.34161476]\n",
            " [ 0.61739785]\n",
            " [-0.2442644 ]]\n",
            "epoch: 100\n",
            "W1: [[ 0.64923555 -0.31435374  0.40410269]\n",
            " [ 0.04244791  0.62977238 -0.22103826]\n",
            " [ 0.29849979  0.06000608  0.03179999]]\n",
            "W2: [[-0.51643762]\n",
            " [ 0.73486086]\n",
            " [-0.23140709]]\n",
            "epoch: 150\n",
            "W1: [[ 0.79439818 -0.61304891  0.26460201]\n",
            " [-0.17726814  0.97927659 -0.25779352]\n",
            " [ 0.33979338 -0.06006368 -0.09272056]]\n",
            "W2: [[-0.80944156]\n",
            " [ 1.00986866]\n",
            " [-0.272035  ]]\n",
            "epoch: 200\n",
            "W1: [[ 1.04222768 -1.06873386  0.15654004]\n",
            " [-0.47413292  1.48564997 -0.22873105]\n",
            " [ 0.4022741  -0.21513087 -0.21646233]]\n",
            "W2: [[-1.27918264]\n",
            " [ 1.4859393 ]\n",
            " [-0.38279679]]\n",
            "epoch: 250\n",
            "W1: [[ 1.44991439 -1.76213845  0.11269726]\n",
            " [-0.90968344  2.25381897 -0.12810043]\n",
            " [ 0.50637224 -0.43588372 -0.33181999]]\n",
            "W2: [[-2.01092668]\n",
            " [ 2.25482142]\n",
            " [-0.58623952]]\n",
            "epoch: 300\n",
            "W1: [[ 2.08044156 -2.81632783  0.09284621]\n",
            " [-1.57891148  3.41583275 -0.01706072]\n",
            " [ 0.67528986 -0.75544865 -0.4256427 ]]\n",
            "W2: [[-3.12432312]\n",
            " [ 3.45957968]\n",
            " [-0.90304069]]\n",
            "epoch: 350\n",
            "W1: [[ 2.9846251  -4.34862464  0.04720911]\n",
            " [-2.56103518  5.09824378  0.06645535]\n",
            " [ 0.92854995 -1.199213   -0.4745361 ]]\n",
            "W2: [[-4.74412704]\n",
            " [ 5.23793043]\n",
            " [-1.35853943]]\n",
            "epoch: 400\n",
            "W1: [[ 4.11401040e+00 -6.34263503e+00 -3.82428995e-03]\n",
            " [-3.80221053e+00  7.29607448e+00  1.33248242e-01]\n",
            " [ 1.25241331e+00 -1.76233053e+00 -4.73079545e-01]]\n",
            "W2: [[-6.84634191]\n",
            " [ 7.58016432]\n",
            " [-1.94015395]]\n",
            "epoch: 450\n",
            "W1: [[ 5.19682667 -8.49823014 -0.03981783]\n",
            " [-5.00194554  9.68682398  0.17709906]\n",
            " [ 1.56373457 -2.36647627 -0.45634907]]\n",
            "W2: [[-9.07797096]\n",
            " [10.10960234]\n",
            " [-2.54771867]]\n",
            "epoch: 500\n",
            "W1: [[  5.97722992 -10.41149435  -0.04415133]\n",
            " [ -5.8718276   11.82040476   0.18358109]\n",
            " [  1.78687069  -2.90114229  -0.44166435]]\n",
            "W2: [[-11.00253737]\n",
            " [ 12.31349698]\n",
            " [ -3.06686551]]\n"
          ]
        }
      ],
      "source": [
        "train(x_train, y_train, learning_rate, epochs)"
      ]
    },
    {
      "cell_type": "markdown",
      "id": "bd563cd4",
      "metadata": {
        "id": "bd563cd4"
      },
      "source": [
        "### `test`"
      ]
    },
    {
      "cell_type": "code",
      "execution_count": null,
      "id": "c18f1077",
      "metadata": {
        "id": "c18f1077",
        "colab": {
          "base_uri": "https://localhost:8080/"
        },
        "outputId": "8eea5ee5-b04e-46cb-b135-50ab7102c103"
      },
      "outputs": [
        {
          "output_type": "execute_result",
          "data": {
            "text/plain": [
              "100.0"
            ]
          },
          "metadata": {},
          "execution_count": 413
        }
      ],
      "source": [
        "test(x_test, y_test)"
      ]
    },
    {
      "cell_type": "markdown",
      "id": "13027e85",
      "metadata": {
        "id": "13027e85"
      },
      "source": [
        "# Analysis\n",
        "\n",
        "1. How are the weight matrices updated?\n",
        "    - print the weight matrices every 50 epochs in `train` function\n",
        "    \n",
        "    \n",
        "\n",
        "2. How does the error change over epochs?\n",
        "    - implement a method of calculating and graphing the change in error of your neural network in `train` function\n",
        "    -I did this by returning a pandas dataframe, `error_df`, from the `train` function that contained two columns, the epoch number and the calculated error for that epoch (remember to average over the whole epoch).  Then I plotted using `error_df.plot(x = \"epoch\", y = \"error\")`. There are many different ways this could be done though!\n",
        "    \n",
        "    Want to make something like this:\n",
        "    \n",
        "    ![image-4.png](https://drive.google.com/uc?id=10LqjzKCplZjWXnSxuGjQYF8ycTToNx9K)\n",
        "\n",
        "  "
      ]
    },
    {
      "cell_type": "code",
      "source": [
        "epoch = []\n",
        "error = []\n",
        "for item in output:\n",
        "    epoch.append(item[0])\n",
        "    error.append(item[1] * 100)\n",
        "plt.plot(epoch, error)\n",
        "plt.xlabel('epoch')\n",
        "plt.ylabel('% error')\n",
        "plt.title('% error vs epoch')\n",
        "plt.show()"
      ],
      "metadata": {
        "id": "1Rx8Z5CV9TNh",
        "colab": {
          "base_uri": "https://localhost:8080/",
          "height": 472
        },
        "outputId": "d6916b06-d011-4cba-b8b8-146949e44194"
      },
      "id": "1Rx8Z5CV9TNh",
      "execution_count": null,
      "outputs": [
        {
          "output_type": "display_data",
          "data": {
            "text/plain": [
              "<Figure size 640x480 with 1 Axes>"
            ],
            "image/png": "[encoded data removed]"
          },
          "metadata": {}
        }
      ]
    }
  ],
  "metadata": {
    "kernelspec": {
      "display_name": "Python 3 (ipykernel)",
      "language": "python",
      "name": "python3"
    },
    "language_info": {
      "codemirror_mode": {
        "name": "ipython",
        "version": 3
      },
      "file_extension": ".py",
      "mimetype": "text/x-python",
      "name": "python",
      "nbconvert_exporter": "python",
      "pygments_lexer": "ipython3",
      "version": "3.9.13"
    },
    "colab": {
      "provenance": [],
      "collapsed_sections": [
        "2a369a29",
        "c1233ded",
        "54e50ed1"
      ]
    }
  },
  "nbformat": 4,
  "nbformat_minor": 5
}